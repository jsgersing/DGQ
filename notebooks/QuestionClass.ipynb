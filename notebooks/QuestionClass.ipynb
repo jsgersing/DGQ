{
  "nbformat": 4,
  "nbformat_minor": 0,
  "metadata": {
    "colab": {
      "name": "QuestionClass.ipynb",
      "provenance": []
    },
    "kernelspec": {
      "name": "python3",
      "display_name": "Python 3"
    },
    "language_info": {
      "name": "python"
    }
  },
  "cells": [
    {
      "cell_type": "code",
      "source": [
        "from random import randint, randrange\n",
        "from fractions import Fraction\n",
        "class Question:\n",
        "\n",
        "    def __init__(self, number):\n",
        "        self.number = number\n",
        "\n",
        "    def __repr__(self):\n",
        "        return f\"Question number: {self.number}\"\n",
        "    \n",
        "    def No_of_Primes(self):\n",
        "        a = randint(5, 10)\n",
        "        b = randint(20, 50)\n",
        "\n",
        "        def primeCheck(n):\n",
        "            # 0, 1, even numbers greater than 2 are NOT PRIME\n",
        "            if n==1 or n==0 or (n % 2 == 0 and n > 2):\n",
        "                return \"Not prime\"\n",
        "            else:\n",
        "                '''Not prime if divisable by another number less than\n",
        "                or equal to the square root of itself.\n",
        "                n**(1/2) returns square root of n'''\n",
        "                for i in range(3, int(n**(1/2))+1, 2):\n",
        "                    if n%i == 0:\n",
        "                        return \"Not prime\"\n",
        "                return \"Prime\"\n",
        "\n",
        "        def totalPrimes(a, b):\n",
        "            arr = range(a+1, b)\n",
        "            wrongs = []\n",
        "            correct = 0\n",
        "            stem = f\"How many prime numbers are less than {b} and greater than {a}?\"\n",
        "            print(stem)\n",
        "            for num in arr:\n",
        "                if primeCheck(num) == \"Prime\":\n",
        "                    correct += 1\n",
        "            while len(wrongs) < 4:\n",
        "                wrong = correct + randint(-5, 5)\n",
        "                if wrong not in wrongs and wrong > 0 and wrong != correct:\n",
        "                    wrongs.append(wrong)\n",
        "            # print(f\"The correct answer is {correct}, and the wrong answers are {wrongs}\")\n",
        "            wrongs.append(correct)\n",
        "            asc_desc = randint(0,1)\n",
        "            if asc_desc == 0:\n",
        "                answer_choices = sorted(wrongs)\n",
        "            else:\n",
        "                answer_choices = (sorted(wrongs))[::-1]\n",
        "            \n",
        "            choices = ['A', 'B', 'C', 'D', 'E']\n",
        "            i = 0\n",
        "            while i < len(answer_choices):\n",
        "                print(f\"{choices[i]}) {answer_choices[i]}\")\n",
        "                i += 1\n",
        "            # return f\"all choices: {answer_choices}\"\n",
        "            \n",
        "        return totalPrimes(a, b)\n",
        "\n",
        "        \n",
        "    def sum_of_first_n_numbers(self):\n",
        "\n",
        "        n1 = randint(1,10)*25\n",
        "        n2 = n1*randint(2,5)\n",
        "        def gaussian_theorem_consecutive(n):\n",
        "            return int((n+1)*(n)/2)\n",
        "\n",
        "        def first_second(n1, n2):\n",
        "            answer_choices = []\n",
        "            first = gaussian_theorem_consecutive(n1)\n",
        "            second = gaussian_theorem_consecutive(n2)\n",
        "            print(f'The sum of the first {n1} positive intergers is {first}. What is the sum of the first {n2} postive integers')\n",
        "            correct = second\n",
        "            answer_choices.append(correct)\n",
        "            while len(answer_choices) < 5:\n",
        "                wrongs = correct + (randint(-5, 5))*25\n",
        "                if wrongs not in answer_choices and wrongs > 0 and wrongs != correct:\n",
        "                    answer_choices.append(wrongs)\n",
        "            asc_desc = randint(0,1)\n",
        "            if asc_desc == 0:\n",
        "                answer_choices = sorted(answer_choices)\n",
        "            else:\n",
        "                answer_choices = (sorted(answer_choices))[::-1]\n",
        "            \n",
        "            choices = ['A', 'B', 'C', 'D', 'E']\n",
        "            i = 0\n",
        "            while i < len(answer_choices):\n",
        "                print(f\"{choices[i]}) {answer_choices[i]}\")\n",
        "                i += 1\n",
        "            \n",
        "        return first_second(n1, n2)\n",
        "\n",
        "    def mf_rat_ratio(self):\n",
        "\n",
        "        n1 = randint(4, 6) * 10\n",
        "        n2 = randint(2, 4) * 10\n",
        "\n",
        "        def rat_ratio(n1, n2):\n",
        "\n",
        "            answer_choices = []\n",
        "            stem = f\"\"\"{n1} percent of the rats included in an experiment were male rats. If some of the rats \n",
        "died during the experiment and {n2} percent of the rats that died were male rats, \n",
        "what was the ratio of death rate among the male rats to the death rate among the female rats?\"\"\"\n",
        "            print(stem)\n",
        "            num_of_num = int((n2 / 100) * 50)\n",
        "            denom_of_num = n1 \n",
        "            num_of_denom = int(50 - num_of_num)\n",
        "            denom_of_denom = 100 - n1\n",
        "            numerator = Fraction(num_of_num / denom_of_num)\n",
        "            denominator = Fraction(num_of_denom / denom_of_denom)\n",
        "            correct = (numerator / denominator).limit_denominator()\n",
        "            answer_choices.append(correct)\n",
        "            while len(answer_choices) < 5:\n",
        "                wrongs = Fraction(randint(1,9) / randint(1,9)).limit_denominator()\n",
        "                if wrongs not in answer_choices and wrongs > 0 and wrongs != correct:\n",
        "                    answer_choices.append(wrongs)\n",
        "            asc_desc = randint(0,1)\n",
        "            if asc_desc == 0:\n",
        "                answer_choices = sorted(answer_choices)\n",
        "            else:\n",
        "                answer_choices = (sorted(answer_choices))[::-1]\n",
        "            \n",
        "            choices = ['A', 'B', 'C', 'D', 'E']\n",
        "            i = 0\n",
        "            while i < len(answer_choices):\n",
        "                print(f\"{choices[i]}) {answer_choices[i]}\")\n",
        "                i += 1\n",
        "\n",
        "        return rat_ratio(n1, n2) \n",
        "\n",
        "    \n",
        "    def age_diff(self):\n",
        "        \n",
        "        def Al_age():\n",
        "            factor_dict = {2: 'twice', 3: 'three times', 4: 'four times', 5: 'five times', 6: 'six times', 7: 'seven times'}\n",
        "            randomizer1 = randrange(3, 7, 2)\n",
        "            randomizer2 = randint(2, randomizer1-1)\n",
        "            in_years = randrange(3, 15, 2)\n",
        "            less_years = randrange(1, 5, 2)\n",
        "            stem = f\"\"\"Today Al is {factor_dict[randomizer1]} as old as Pat. In {in_years} year(s),\n",
        "Al will be {less_years} year(s) less than {factor_dict[randomizer2]} as old as Pat will be then. \n",
        "How many years old is Al today?\"\"\"\n",
        "            correct = int((randomizer2 * in_years - less_years - in_years) / (1 - (randomizer2 / randomizer1)))\n",
        "            answer_choices = []\n",
        "            if correct == 0:\n",
        "                Al_age()\n",
        "            else:\n",
        "                print(stem)\n",
        "                answer_choices.append(correct)\n",
        "            while len(answer_choices) < 5:\n",
        "                wrongs = correct + randint(-20, 20)\n",
        "                if wrongs not in answer_choices and wrongs > 0 and wrongs != correct:\n",
        "                    answer_choices.append(wrongs)\n",
        "            asc_desc = randint(0,1)\n",
        "            if asc_desc == 0:\n",
        "                answer_choices = sorted(answer_choices)\n",
        "            else:\n",
        "                answer_choices = (sorted(answer_choices))[::-1]\n",
        "            \n",
        "            choices = ['A', 'B', 'C', 'D', 'E']\n",
        "            i = 0\n",
        "            while i < len(answer_choices):\n",
        "                print(f\"{choices[i]}) {answer_choices[i]}\")\n",
        "                i += 1\n",
        "        return Al_age()"
      ],
      "metadata": {
        "id": "RA5OantFZhsE"
      },
      "execution_count": 16,
      "outputs": []
    },
    {
      "cell_type": "code",
      "source": [
        "question1 = Question(1)\n",
        "question2 = Question(2)\n",
        "question3 = Question(3)\n",
        "question4 = Question(4)\n"
      ],
      "metadata": {
        "id": "iTTOcXQ2ZkbW"
      },
      "execution_count": 17,
      "outputs": []
    },
    {
      "cell_type": "code",
      "source": [
        "print(question1)\n",
        "print(question2)\n",
        "print(question3)\n",
        "print(question4)"
      ],
      "metadata": {
        "colab": {
          "base_uri": "https://localhost:8080/"
        },
        "id": "_zn5NYr6CVnz",
        "outputId": "d036a294-3570-417f-d0e9-e7a0ba2d0e38"
      },
      "execution_count": 18,
      "outputs": [
        {
          "output_type": "stream",
          "name": "stdout",
          "text": [
            "Question number: 1\n",
            "Question number: 2\n",
            "Question number: 3\n",
            "Question number: 4\n"
          ]
        }
      ]
    },
    {
      "cell_type": "code",
      "source": [
        "question1.No_of_Primes()"
      ],
      "metadata": {
        "colab": {
          "base_uri": "https://localhost:8080/"
        },
        "id": "YJ-c4ONyBwK2",
        "outputId": "bbbc4623-eaa0-4b37-a244-1f3b0604e22f"
      },
      "execution_count": 19,
      "outputs": [
        {
          "output_type": "stream",
          "name": "stdout",
          "text": [
            "How many prime numbers are less than 29 and greater than 8?\n",
            "A) 9\n",
            "B) 8\n",
            "C) 7\n",
            "D) 5\n",
            "E) 4\n"
          ]
        }
      ]
    },
    {
      "cell_type": "code",
      "source": [
        "question2.sum_of_first_n_numbers()"
      ],
      "metadata": {
        "colab": {
          "base_uri": "https://localhost:8080/"
        },
        "id": "KxETRNWGDZeI",
        "outputId": "8fd35e09-d764-4585-ef49-441bba16cbca"
      },
      "execution_count": 20,
      "outputs": [
        {
          "output_type": "stream",
          "name": "stdout",
          "text": [
            "The sum of the first 75 positive intergers is 2850. What is the sum of the first 375 postive integers\n",
            "A) 70600\n",
            "B) 70500\n",
            "C) 70425\n",
            "D) 70400\n",
            "E) 70375\n"
          ]
        }
      ]
    },
    {
      "cell_type": "code",
      "source": [
        "question3.mf_rat_ratio()"
      ],
      "metadata": {
        "colab": {
          "base_uri": "https://localhost:8080/"
        },
        "id": "TZOCK-nh80Kh",
        "outputId": "74744c9f-e674-488f-bbc9-24e3f3cf834a"
      },
      "execution_count": 21,
      "outputs": [
        {
          "output_type": "stream",
          "name": "stdout",
          "text": [
            "60 percent of the rats included in an experiment were male rats. If some of the rats \n",
            "died during the experiment and 30 percent of the rats that died were male rats, \n",
            "what was the ratio of death rate among the male rats to the death rate among the female rats?\n",
            "A) 2\n",
            "B) 5/8\n",
            "C) 1/2\n",
            "D) 2/5\n",
            "E) 2/7\n"
          ]
        }
      ]
    },
    {
      "cell_type": "code",
      "source": [
        "question4.age_diff()"
      ],
      "metadata": {
        "colab": {
          "base_uri": "https://localhost:8080/"
        },
        "id": "QAmx9nmN-QVy",
        "outputId": "19073f46-a130-4c71-b5b9-deca28d26bdc"
      },
      "execution_count": 22,
      "outputs": [
        {
          "output_type": "stream",
          "name": "stdout",
          "text": [
            "Today Al is five times as old as Pat. In 9 year(s),\n",
            "Al will be 1 year(s) less than four times as old as Pat will be then. \n",
            "How many years old is Al today?\n",
            "A) 138\n",
            "B) 132\n",
            "C) 130\n",
            "D) 117\n",
            "E) 110\n"
          ]
        }
      ]
    },
    {
      "cell_type": "code",
      "source": [
        ""
      ],
      "metadata": {
        "id": "VYmRkSoNDHxH"
      },
      "execution_count": null,
      "outputs": []
    }
  ]
}